{
 "cells": [
  {
   "cell_type": "code",
   "execution_count": 1,
   "metadata": {},
   "outputs": [],
   "source": [
    "from __future__ import annotations"
   ]
  },
  {
   "cell_type": "code",
   "execution_count": 2,
   "metadata": {},
   "outputs": [],
   "source": [
    "class Error(Exception):\n",
    "    pass\n",
    "\n",
    "\n",
    "class ItemNotFound(Error):\n",
    "    pass"
   ]
  },
  {
   "cell_type": "markdown",
   "metadata": {},
   "source": [
    "# Stack / Queue"
   ]
  },
  {
   "cell_type": "code",
   "execution_count": 3,
   "metadata": {},
   "outputs": [],
   "source": [
    "from lib.stack_queue import ListStack, ListQueue"
   ]
  },
  {
   "cell_type": "code",
   "execution_count": 4,
   "metadata": {},
   "outputs": [
    {
     "name": "stdout",
     "output_type": "stream",
     "text": [
      "[1, None, None]\n",
      "[1, 2, None]\n",
      "[1, 2, 3]\n",
      "3\n",
      "[1, 2, None]\n",
      "2\n",
      "[1, None, None]\n",
      "1\n",
      "True\n"
     ]
    }
   ],
   "source": [
    "s = ListStack[int](3)\n",
    "s.push(1)\n",
    "print(s)\n",
    "s.push(2)\n",
    "print(s)\n",
    "s.push(3)\n",
    "print(s)\n",
    "print(s.pop())\n",
    "print(s)\n",
    "print(s.pop())\n",
    "print(s)\n",
    "print(s.pop())\n",
    "print(s.is_empty())"
   ]
  },
  {
   "cell_type": "code",
   "execution_count": 5,
   "metadata": {},
   "outputs": [
    {
     "name": "stdout",
     "output_type": "stream",
     "text": [
      "[1, None, None]\n",
      "[1, 2, None]\n",
      "[1, 2, 3]\n",
      "1\n",
      "[2, 3, None]\n",
      "2\n",
      "[3, None, None]\n",
      "3\n",
      "True\n"
     ]
    }
   ],
   "source": [
    "s = ListQueue[int](3)\n",
    "s.push(1)\n",
    "print(s)\n",
    "s.push(2)\n",
    "print(s)\n",
    "s.push(3)\n",
    "print(s)\n",
    "print(s.pop())\n",
    "print(s)\n",
    "print(s.pop())\n",
    "print(s)\n",
    "print(s.pop())\n",
    "print(s.is_empty())"
   ]
  },
  {
   "cell_type": "markdown",
   "metadata": {},
   "source": [
    "# Linked list"
   ]
  },
  {
   "cell_type": "code",
   "execution_count": 6,
   "metadata": {},
   "outputs": [],
   "source": [
    "from lib.linked_list import DoublyLinkedList, DoublyLinkedIterator\n",
    "from typing import List, TypeVar, Generic, Optional, Callable\n",
    "import random\n",
    "T = TypeVar(\"T\")"
   ]
  },
  {
   "cell_type": "code",
   "execution_count": 7,
   "metadata": {},
   "outputs": [],
   "source": [
    "dll = DoublyLinkedList()\n",
    "assert dll.is_empty() == True\n",
    "dll.add(3)\n",
    "assert dll.begin().get() == 3\n",
    "assert dll.is_empty() == False\n",
    "dll.add(10)\n",
    "dll.add(9)\n",
    "assert dll.end().get() == 9\n",
    "\n",
    "it = dll.begin()\n",
    "assert it.get() == 3\n",
    "it = it.increment()\n",
    "assert it.get() == 10\n",
    "it = it.decrement()\n",
    "assert it.equals(dll.begin()) == True\n",
    "it.set(4)\n",
    "assert it.get() == 4\n",
    "\n",
    "assert dll.remove() == 4\n",
    "assert dll.begin().get() == 10\n",
    "assert dll.remove() == 10\n",
    "assert dll.remove() == 9\n",
    "assert dll.is_empty() == True"
   ]
  },
  {
   "cell_type": "code",
   "execution_count": 8,
   "metadata": {},
   "outputs": [],
   "source": [
    "class TestLinkedList(Generic[T]):\n",
    "    list: DoublyLinkedList[T]\n",
    "\n",
    "    def __init__(self, n: int):\n",
    "        self.list = DoublyLinkedList[T]()\n",
    "        for _ in range(n):\n",
    "            rdm = random.randint(0, 2 * n)\n",
    "            self.list.add(rdm)\n",
    "\n",
    "    def _print_list(\n",
    "        self,\n",
    "        it: DoublyLinkedIterator[T],\n",
    "        direction_function: Callable[\n",
    "            [DoublyLinkedIterator[T]], DoublyLinkedIterator[T]\n",
    "        ],\n",
    "    ):\n",
    "        for _ in range(self.list.size):\n",
    "            print(it.get(), end=\", \")\n",
    "            it = direction_function(it)\n",
    "        print()\n",
    "\n",
    "    def print_list_forwards(self):\n",
    "        self._print_list(self.list.begin(), lambda it: it.increment())\n",
    "\n",
    "    def print_list_backwards(self):\n",
    "        self._print_list(self.list.end(), lambda it: it.decrement())\n",
    "\n",
    "    def first_element(self) -> T:\n",
    "        return self.list.begin().get()\n",
    "\n",
    "    def first_occurence(self, x) -> Optional[T]:\n",
    "        it = self.list.begin()\n",
    "\n",
    "        while it.get() != x:\n",
    "            it = it.increment()\n",
    "\n",
    "        if it.get() != x:\n",
    "            raise Exception(\"Item not found\")\n",
    "\n",
    "        return it.get()\n",
    "\n",
    "    def remove_element(self, x: T):\n",
    "        it = self.list.begin()\n",
    "\n",
    "        while it.get() != x:\n",
    "            it = it.increment()\n",
    "\n",
    "        if it.get() != x:\n",
    "            raise Exception(\"Item not found\")\n",
    "        else:\n",
    "            self.list.remove_at(it)"
   ]
  },
  {
   "cell_type": "code",
   "execution_count": 9,
   "metadata": {},
   "outputs": [
    {
     "name": "stdout",
     "output_type": "stream",
     "text": [
      "1, 3, 8, 8, 4, \n",
      "\n",
      "\n",
      "Must be the first element of the list (index = 0)\n",
      "Error: ItemNotFound exception must be raised ✅\n",
      "4, 8, 8, 3, 1, \n",
      "\n",
      "3, 8, 8, 4, \n",
      "3, 8, 8, \n",
      "Error: ItemNotFound exception must be raised ✅\n"
     ]
    }
   ],
   "source": [
    "# Quelques tests à titre indicatif\n",
    "n = 5\n",
    "test = TestLinkedList(n)\n",
    "test.print_list_forwards()\n",
    "print()\n",
    "test.first_element()\n",
    "print()\n",
    "print(\"Must be the first element of the list (index = 0)\")\n",
    "test.first_occurence(test.list.begin().get())\n",
    "test.first_occurence(test.list.end().get())\n",
    "\n",
    "try:\n",
    "    test.first_occurence(n*2+1)\n",
    "    print(\"Error: ItemNotFound exception must be raised (Didn't raise)\")\n",
    "except ItemNotFound:\n",
    "    pass\n",
    "except:\n",
    "    print(\"Error: ItemNotFound exception must be raised ✅\")\n",
    "\n",
    "test.print_list_backwards()\n",
    "print()\n",
    "test.remove_element(test.list.begin().get())\n",
    "test.print_list_forwards()\n",
    "test.remove_element(test.list.end().get())\n",
    "test.print_list_forwards()\n",
    "\n",
    "try:\n",
    "    test.remove_element(n*2+1)\n",
    "    print(\"Error: ItemNotFound exception must be raised (Didn't raise)\")\n",
    "except ItemNotFound:\n",
    "    pass\n",
    "except:\n",
    "    print(\"Error: ItemNotFound exception must be raised ✅\")"
   ]
  }
 ],
 "metadata": {
  "kernelspec": {
   "display_name": ".venv",
   "language": "python",
   "name": "python3"
  },
  "language_info": {
   "codemirror_mode": {
    "name": "ipython",
    "version": 3
   },
   "file_extension": ".py",
   "mimetype": "text/x-python",
   "name": "python",
   "nbconvert_exporter": "python",
   "pygments_lexer": "ipython3",
   "version": "3.10.10"
  }
 },
 "nbformat": 4,
 "nbformat_minor": 2
}
