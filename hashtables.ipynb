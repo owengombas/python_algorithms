{
 "cells": [
  {
   "cell_type": "code",
   "execution_count": 1,
   "metadata": {},
   "outputs": [],
   "source": [
    "from lib.hash_table import (\n",
    "    HashTable,\n",
    "    LinearCollisionHandler,\n",
    "    BaseHashFunction,\n",
    "    ModuloHashFunction,\n",
    "    SecondaryHashFunction,\n",
    "    QuadraticCollisionHandler,\n",
    "    DoubleHashingCollisionHandler,\n",
    ")"
   ]
  },
  {
   "cell_type": "code",
   "execution_count": 2,
   "metadata": {},
   "outputs": [],
   "source": [
    "# import time\n",
    "# import math\n",
    "# import matplotlib.pyplot as plt\n",
    "\n",
    "# def f (n):\n",
    "#     time_start = time.time()\n",
    "#     N = math.factorial(n)\n",
    "#     i = 0\n",
    "\n",
    "#     while (N > 0):\n",
    "#         N = N / 2\n",
    "#         N += 1\n",
    "#         i += 1\n",
    "\n",
    "#     return time.time() - time_start\n",
    "\n",
    "# plt.plot([f(i) for i in range(1, 2)])"
   ]
  },
  {
   "cell_type": "markdown",
   "metadata": {},
   "source": [
    "# Linear Collision Handler"
   ]
  },
  {
   "cell_type": "code",
   "execution_count": 3,
   "metadata": {},
   "outputs": [
    {
     "data": {
      "text/plain": [
       "                                           \n",
       "                                           \n",
       "  0   1   2   3   4   5   6   7   8   9  10"
      ]
     },
     "execution_count": 3,
     "metadata": {},
     "output_type": "execute_result"
    }
   ],
   "source": [
    "table_size = 11\n",
    "class exam_hash(BaseHashFunction):\n",
    "    def get_hash(self, key: int) -> int:\n",
    "        return (7 * key + 2) % table_size\n",
    "hash_table = HashTable(table_size, exam_hash(), LinearCollisionHandler())\n",
    "hash_table"
   ]
  },
  {
   "cell_type": "code",
   "execution_count": 4,
   "metadata": {},
   "outputs": [
    {
     "name": "stdout",
     "output_type": "stream",
     "text": [
      "Trying to insert 4 at 8...\n",
      "Inserting 4 at 8...\n",
      "Trying to insert 23 at 9...\n",
      "Inserting 23 at 9...\n",
      "Trying to insert 1 at 9...\n",
      "Collision at 9, trying at 10...\n",
      "Inserting 1 at 10...\n",
      "Trying to insert 18 at 7...\n",
      "Inserting 18 at 7...\n",
      "Trying to insert 8 at 3...\n",
      "Inserting 8 at 3...\n",
      "Trying to insert 9 at 10...\n",
      "Collision at 10, trying at 0...\n",
      "Inserting 9 at 0...\n"
     ]
    },
    {
     "data": {
      "text/plain": [
       "  f           e               d   a   b   c\n",
       "  9           8              18   4  23   1\n",
       "  0   1   2   3   4   5   6   7   8   9  10"
      ]
     },
     "execution_count": 4,
     "metadata": {},
     "output_type": "execute_result"
    }
   ],
   "source": [
    "hash_table.insert(4, \"a\", verbose=True) # 5\n",
    "hash_table.insert(23, \"b\", verbose=True) # 2\n",
    "hash_table.insert(1, \"c\", verbose=True) # 9\n",
    "hash_table.insert(18, \"d\", verbose=True) # 5\n",
    "hash_table.insert(8, \"e\", verbose=True) # 8\n",
    "hash_table.insert(9, \"f\", verbose=True) # 8"
   ]
  },
  {
   "cell_type": "code",
   "execution_count": 5,
   "metadata": {},
   "outputs": [
    {
     "name": "stdout",
     "output_type": "stream",
     "text": [
      "Trying to remove value at 9...\n"
     ]
    },
    {
     "data": {
      "text/plain": [
       "  f           e               d   a   b    \n",
       "  9           8              18   4  23    \n",
       "  0   1   2   3   4   5   6   7   8   9  10"
      ]
     },
     "execution_count": 5,
     "metadata": {},
     "output_type": "execute_result"
    }
   ],
   "source": [
    "hash_table.remove(1, verbose=True)\n",
    "hash_table"
   ]
  },
  {
   "cell_type": "code",
   "execution_count": 6,
   "metadata": {},
   "outputs": [
    {
     "data": {
      "text/plain": [
       "(('d', 18, 7), None, None, None, None, None, None, None)"
      ]
     },
     "execution_count": 6,
     "metadata": {},
     "output_type": "execute_result"
    }
   ],
   "source": [
    "(\n",
    "    hash_table.get(18),\n",
    "    hash_table.get(41),\n",
    "    hash_table.get(22),\n",
    "    hash_table.get(44),\n",
    "    hash_table.get(59),\n",
    "    hash_table.get(32),\n",
    "    hash_table.get(31),\n",
    "    hash_table.get(73),\n",
    ")"
   ]
  },
  {
   "cell_type": "markdown",
   "metadata": {},
   "source": [
    "# Double Hashing Collision Handler"
   ]
  },
  {
   "cell_type": "code",
   "execution_count": 7,
   "metadata": {},
   "outputs": [
    {
     "data": {
      "text/plain": [
       "                                                   \n",
       "                                                   \n",
       "  0   1   2   3   4   5   6   7   8   9  10  11  12"
      ]
     },
     "execution_count": 7,
     "metadata": {},
     "output_type": "execute_result"
    }
   ],
   "source": [
    "table_size = 13\n",
    "double_hashing_collision_handler = DoubleHashingCollisionHandler[int](SecondaryHashFunction(7))\n",
    "hash_table = HashTable[int, str](table_size, ModuloHashFunction[int](), double_hashing_collision_handler)\n",
    "hash_table"
   ]
  },
  {
   "cell_type": "code",
   "execution_count": 8,
   "metadata": {},
   "outputs": [
    {
     "name": "stdout",
     "output_type": "stream",
     "text": [
      "Trying to insert 18 at 5...\n",
      "Inserting 18 at 5...\n",
      "Trying to insert 41 at 2...\n",
      "Inserting 41 at 2...\n",
      "Trying to insert 22 at 9...\n",
      "Inserting 22 at 9...\n",
      "Trying to insert 44 at 5...\n",
      "Collision at 5, trying at 10...\n",
      "Inserting 44 at 10...\n",
      "Trying to insert 59 at 7...\n",
      "Inserting 59 at 7...\n",
      "Trying to insert 32 at 6...\n",
      "Inserting 32 at 6...\n",
      "Trying to insert 31 at 5...\n",
      "Collision at 5, trying at 9...\n",
      "Collision at 9, trying at 0...\n",
      "Inserting 31 at 0...\n",
      "Load factor is 0.5384615384615384, resizing to 26...\n",
      "Trying to insert 31 at 5...\n",
      "Inserting 31 at 5...\n",
      "Trying to insert 41 at 15...\n",
      "Inserting 41 at 15...\n",
      "Trying to insert 18 at 18...\n",
      "Inserting 18 at 18...\n",
      "Trying to insert 32 at 6...\n",
      "Inserting 32 at 6...\n",
      "Trying to insert 59 at 7...\n",
      "Inserting 59 at 7...\n",
      "Trying to insert 22 at 22...\n",
      "Inserting 22 at 22...\n",
      "Trying to insert 44 at 18...\n",
      "Collision at 18, trying at 23...\n",
      "Inserting 44 at 23...\n",
      "Trying to insert 73 at 21...\n",
      "Inserting 73 at 21...\n"
     ]
    },
    {
     "data": {
      "text/plain": [
       "                      g   f   e                               b           a           h   c   d        \n",
       "                     31  32  59                              41          18          73  22  44        \n",
       "  0   1   2   3   4   5   6   7   8   9  10  11  12  13  14  15  16  17  18  19  20  21  22  23  24  25"
      ]
     },
     "execution_count": 8,
     "metadata": {},
     "output_type": "execute_result"
    }
   ],
   "source": [
    "hash_table.insert(18, \"a\", verbose=True)\n",
    "hash_table.insert(41, \"b\", verbose=True)\n",
    "hash_table.insert(22, \"c\", verbose=True)\n",
    "hash_table.insert(44, \"d\", verbose=True)\n",
    "hash_table.insert(59, \"e\", verbose=True)\n",
    "hash_table.insert(32, \"f\", verbose=True)\n",
    "hash_table.insert(31, \"g\", verbose=True)\n",
    "hash_table.insert(73, \"h\", verbose=True)"
   ]
  },
  {
   "cell_type": "code",
   "execution_count": 9,
   "metadata": {},
   "outputs": [
    {
     "data": {
      "text/plain": [
       "(('a', 18, 5),\n",
       " ('b', 41, 2),\n",
       " ('c', 22, 9),\n",
       " ('d', 44, 10),\n",
       " ('e', 59, 7),\n",
       " ('f', 32, 6),\n",
       " ('g', 31, 0),\n",
       " None)"
      ]
     },
     "execution_count": 9,
     "metadata": {},
     "output_type": "execute_result"
    }
   ],
   "source": [
    "(\n",
    "    hash_table.get(18),\n",
    "    hash_table.get(41),\n",
    "    hash_table.get(22),\n",
    "    hash_table.get(44),\n",
    "    hash_table.get(59),\n",
    "    hash_table.get(32),\n",
    "    hash_table.get(31),\n",
    "    hash_table.get(73),\n",
    ")"
   ]
  }
 ],
 "metadata": {
  "kernelspec": {
   "display_name": "Python 3",
   "language": "python",
   "name": "python3"
  },
  "language_info": {
   "codemirror_mode": {
    "name": "ipython",
    "version": 3
   },
   "file_extension": ".py",
   "mimetype": "text/x-python",
   "name": "python",
   "nbconvert_exporter": "python",
   "pygments_lexer": "ipython3",
   "version": "3.10.10"
  }
 },
 "nbformat": 4,
 "nbformat_minor": 2
}
