{
 "cells": [
  {
   "cell_type": "markdown",
   "metadata": {},
   "source": [
    "# Change"
   ]
  },
  {
   "cell_type": "code",
   "execution_count": 1,
   "metadata": {},
   "outputs": [],
   "source": [
    "from lib.make_change import make_change, compute_optimial_change"
   ]
  },
  {
   "cell_type": "code",
   "execution_count": 2,
   "metadata": {},
   "outputs": [
    {
     "name": "stdout",
     "output_type": "stream",
     "text": [
      "10\n",
      "50\n"
     ]
    }
   ],
   "source": [
    "coins = [1, 2, 3, 5, 10, 20, 50, 100, 200]\n",
    "target = 60\n",
    "\n",
    "coins_used, last_coins = compute_optimial_change(coins=coins, max_change=target)\n",
    "for coin, amount, _  in make_change(coins_used, last_coins, target):\n",
    "    print(coin)"
   ]
  },
  {
   "cell_type": "markdown",
   "metadata": {},
   "source": [
    "# Matrix Multiplication"
   ]
  },
  {
   "cell_type": "code",
   "execution_count": 3,
   "metadata": {},
   "outputs": [],
   "source": [
    "from lib.optimal_matrix_multiplication import find_best_splitting_points, get_splitting_points, cantalan\n",
    "from typing import List"
   ]
  },
  {
   "cell_type": "code",
   "execution_count": 4,
   "metadata": {},
   "outputs": [],
   "source": [
    "def find_splitting_points(\n",
    "    dimensions: List[int], symbols: List[str] = None\n",
    ") -> List[int]:\n",
    "    number_of_matrices = len(dimensions) - 1\n",
    "    if symbols is None:\n",
    "        symbols = [chr(ord(\"A\") + i) for i in range(number_of_matrices)]\n",
    "\n",
    "    value, best_pivot, best_value, start, end = find_best_splitting_points(dimensions)\n",
    "\n",
    "    splitting_points = []\n",
    "    for p in get_splitting_points(best_pivot, start, end):\n",
    "        print(p)\n",
    "        splitting_points.append(p)"
   ]
  },
  {
   "cell_type": "code",
   "execution_count": 5,
   "metadata": {},
   "outputs": [
    {
     "name": "stdout",
     "output_type": "stream",
     "text": [
      "1\n",
      "2\n",
      "3\n",
      "4\n",
      "5\n"
     ]
    }
   ],
   "source": [
    "find_splitting_points([2, 3, 4, 5, 6, 7, 8])"
   ]
  },
  {
   "cell_type": "code",
   "execution_count": 6,
   "metadata": {},
   "outputs": [
    {
     "name": "stdout",
     "output_type": "stream",
     "text": [
      "1\n",
      "3\n",
      "2\n"
     ]
    }
   ],
   "source": [
    "find_splitting_points([10, 30, 5, 60, 8])"
   ]
  },
  {
   "cell_type": "code",
   "execution_count": 7,
   "metadata": {},
   "outputs": [
    {
     "name": "stdout",
     "output_type": "stream",
     "text": [
      "4\n",
      "3\n",
      "2\n",
      "1\n"
     ]
    }
   ],
   "source": [
    "dimensions = [15, 20, 25, 10, 35, 5]\n",
    "find_splitting_points(dimensions)"
   ]
  },
  {
   "cell_type": "code",
   "execution_count": 8,
   "metadata": {},
   "outputs": [
    {
     "name": "stdout",
     "output_type": "stream",
     "text": [
      "For 5 matrices, there are 4 multiplications and 14 possible ways to multiply them\n"
     ]
    }
   ],
   "source": [
    "number_of_matrices = len(dimensions) - 1\n",
    "n_multiplications = number_of_matrices - 1\n",
    "n_cantalan = cantalan(n_multiplications)\n",
    "\n",
    "print(f\"For {number_of_matrices} matrices, there are {n_multiplications} multiplications and {n_cantalan} possible ways to multiply them\")"
   ]
  }
 ],
 "metadata": {
  "kernelspec": {
   "display_name": "Python 3",
   "language": "python",
   "name": "python3"
  },
  "language_info": {
   "codemirror_mode": {
    "name": "ipython",
    "version": 3
   },
   "file_extension": ".py",
   "mimetype": "text/x-python",
   "name": "python",
   "nbconvert_exporter": "python",
   "pygments_lexer": "ipython3",
   "version": "3.10.10"
  }
 },
 "nbformat": 4,
 "nbformat_minor": 2
}
