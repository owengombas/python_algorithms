{
 "cells": [
  {
   "cell_type": "markdown",
   "metadata": {},
   "source": [
    "# 2s Complement"
   ]
  },
  {
   "cell_type": "code",
   "execution_count": 21,
   "metadata": {},
   "outputs": [],
   "source": [
    "from lib.complement_2 import Complement2, BinaryNumber"
   ]
  },
  {
   "cell_type": "code",
   "execution_count": 22,
   "metadata": {},
   "outputs": [],
   "source": [
    "bits = 8\n",
    "complement_2 = Complement2(bits)"
   ]
  },
  {
   "cell_type": "code",
   "execution_count": 23,
   "metadata": {},
   "outputs": [
    {
     "name": "stdout",
     "output_type": "stream",
     "text": [
      " 85 in complement 2: 01010101\n",
      "-85 in complement 2: 10101011\n"
     ]
    }
   ],
   "source": [
    "n_85 = 85\n",
    "c2_85 = complement_2.convert(n_85)\n",
    "print(f\" {n_85} in complement 2: {BinaryNumber.to_string(c2_85, bits)}\")\n",
    "\n",
    "n_m_85 = -85\n",
    "c2_m_85 = complement_2.convert(n_m_85)\n",
    "print(f\"{n_m_85} in complement 2: {BinaryNumber.to_string(c2_m_85, bits)}\")"
   ]
  },
  {
   "cell_type": "markdown",
   "metadata": {},
   "source": [
    "# MaxSubArraySum"
   ]
  },
  {
   "cell_type": "code",
   "execution_count": 24,
   "metadata": {},
   "outputs": [],
   "source": [
    "from lib.max_sub_array_sum import MaxSubArraySum\n",
    "max_sub_array_sum = MaxSubArraySum()"
   ]
  },
  {
   "cell_type": "code",
   "execution_count": 25,
   "metadata": {},
   "outputs": [],
   "source": [
    "array = [1, 2, 3, 4, 5, 6, 7, 8, 9]\n",
    "expected = 45"
   ]
  },
  {
   "cell_type": "code",
   "execution_count": 26,
   "metadata": {},
   "outputs": [
    {
     "name": "stdout",
     "output_type": "stream",
     "text": [
      "max_sum=45 expected=45\n"
     ]
    }
   ],
   "source": [
    "max_sum = max_sub_array_sum.max_sub_array_sum(array)\n",
    "assert max_sum == expected, f\"max_sum={max_sum} expected={expected}\"\n",
    "\n",
    "print(f\"max_sum={max_sum} expected={expected}\")"
   ]
  },
  {
   "cell_type": "markdown",
   "metadata": {},
   "source": [
    "# Fibonacci"
   ]
  },
  {
   "cell_type": "code",
   "execution_count": 27,
   "metadata": {},
   "outputs": [],
   "source": [
    "from lib.fibonacci import Fibonacci\n",
    "fib = Fibonacci()"
   ]
  },
  {
   "cell_type": "code",
   "execution_count": 28,
   "metadata": {},
   "outputs": [],
   "source": [
    "n = 10"
   ]
  },
  {
   "cell_type": "code",
   "execution_count": 29,
   "metadata": {},
   "outputs": [
    {
     "data": {
      "text/plain": [
       "[0, 1, 1, 2, 3, 5, 8, 13, 21, 34]"
      ]
     },
     "execution_count": 29,
     "metadata": {},
     "output_type": "execute_result"
    }
   ],
   "source": [
    "fib.recursive(n)"
   ]
  },
  {
   "cell_type": "code",
   "execution_count": 30,
   "metadata": {},
   "outputs": [
    {
     "data": {
      "text/plain": [
       "[0, 1, 1, 2, 3, 5, 8, 13, 21, 34]"
      ]
     },
     "execution_count": 30,
     "metadata": {},
     "output_type": "execute_result"
    }
   ],
   "source": [
    "fib.iterative(n)"
   ]
  },
  {
   "cell_type": "code",
   "execution_count": 31,
   "metadata": {},
   "outputs": [
    {
     "data": {
      "text/plain": [
       "55"
      ]
     },
     "execution_count": 31,
     "metadata": {},
     "output_type": "execute_result"
    }
   ],
   "source": [
    "fib.closed_form(n)"
   ]
  },
  {
   "cell_type": "code",
   "execution_count": 32,
   "metadata": {},
   "outputs": [
    {
     "data": {
      "text/plain": [
       "55"
      ]
     },
     "execution_count": 32,
     "metadata": {},
     "output_type": "execute_result"
    }
   ],
   "source": [
    "fib.matrix(n)"
   ]
  },
  {
   "cell_type": "markdown",
   "metadata": {},
   "source": [
    "# TopologicalSort"
   ]
  },
  {
   "cell_type": "code",
   "execution_count": 33,
   "metadata": {},
   "outputs": [],
   "source": [
    "from lib.topological_sort import TopologicalSort\n",
    "ts = TopologicalSort()"
   ]
  },
  {
   "cell_type": "code",
   "execution_count": 34,
   "metadata": {},
   "outputs": [
    {
     "name": "stdout",
     "output_type": "stream",
     "text": [
      "['B', 'D', 'F', 'A', 'C', 'E']\n",
      "['A', 'B', 'C', 'D', 'E', 'F']\n"
     ]
    }
   ],
   "source": [
    "graph = dict(\n",
    "    A=[\"C\"],\n",
    "    B=[\"C\", \"D\"],\n",
    "    C=[\"E\"],\n",
    "    D=[\"F\"],\n",
    "    E=[],\n",
    "    F=[]\n",
    ")\n",
    "\n",
    "print(ts.dfs(graph))\n",
    "print(ts.kahn(graph))"
   ]
  },
  {
   "cell_type": "markdown",
   "metadata": {},
   "source": [
    "# LinearCongruentialGenerator"
   ]
  },
  {
   "cell_type": "code",
   "execution_count": 35,
   "metadata": {},
   "outputs": [],
   "source": [
    "from lib.linear_congruential_generator import LinearCongruentialGenerator"
   ]
  },
  {
   "cell_type": "code",
   "execution_count": 36,
   "metadata": {},
   "outputs": [],
   "source": [
    "random = LinearCongruentialGenerator(seed=0, A=48271, M=2**31-1)"
   ]
  },
  {
   "cell_type": "code",
   "execution_count": 37,
   "metadata": {},
   "outputs": [
    {
     "data": {
      "text/plain": [
       "[338620470,\n",
       " 1050670053,\n",
       " 1920320811,\n",
       " 1821728673,\n",
       " 1504397027,\n",
       " 1589367012,\n",
       " 1481747177,\n",
       " 1327633985,\n",
       " 1013096161,\n",
       " 667178147]"
      ]
     },
     "execution_count": 37,
     "metadata": {},
     "output_type": "execute_result"
    }
   ],
   "source": [
    "[random.random_integer() for _ in range(10)]"
   ]
  },
  {
   "cell_type": "code",
   "execution_count": 38,
   "metadata": {},
   "outputs": [
    {
     "data": {
      "text/plain": [
       "[0.7876956024149878,\n",
       " 0.8544241738759094,\n",
       " 0.9092971640216639,\n",
       " 0.6834044897385894,\n",
       " 0.618124171447998,\n",
       " 0.47187996631110085,\n",
       " 0.11785380314935641,\n",
       " 0.9209318225835132,\n",
       " 0.30000792876817656,\n",
       " 0.6827295686503544]"
      ]
     },
     "execution_count": 38,
     "metadata": {},
     "output_type": "execute_result"
    }
   ],
   "source": [
    "[random.random_float() for _ in range(10)]"
   ]
  },
  {
   "cell_type": "code",
   "execution_count": 39,
   "metadata": {},
   "outputs": [
    {
     "data": {
      "text/plain": [
       "[0.0039008321258708987,\n",
       " 0.09706754791413785,\n",
       " 0.04760536334831517,\n",
       " 0.05849418652173793,\n",
       " 0.07287759081128874,\n",
       " 0.07418605171804599,\n",
       " 0.034902481797571515,\n",
       " 0.07769885057476296,\n",
       " 0.001216094382673546,\n",
       " 0.0020919460347350433]"
      ]
     },
     "execution_count": 39,
     "metadata": {},
     "output_type": "execute_result"
    }
   ],
   "source": [
    "[random.random_float_range(0, 0.1) for _ in range(10)]"
   ]
  },
  {
   "cell_type": "code",
   "execution_count": 40,
   "metadata": {},
   "outputs": [
    {
     "data": {
      "text/plain": [
       "[5, 4, 1, 3, 3, 1, 3, 1, 5, 2]"
      ]
     },
     "execution_count": 40,
     "metadata": {},
     "output_type": "execute_result"
    }
   ],
   "source": [
    "[random.random_integer_range(1, 5) for _ in range(10)]"
   ]
  }
 ],
 "metadata": {
  "kernelspec": {
   "display_name": ".venv",
   "language": "python",
   "name": "python3"
  },
  "language_info": {
   "codemirror_mode": {
    "name": "ipython",
    "version": 3
   },
   "file_extension": ".py",
   "mimetype": "text/x-python",
   "name": "python",
   "nbconvert_exporter": "python",
   "pygments_lexer": "ipython3",
   "version": "3.10.10"
  }
 },
 "nbformat": 4,
 "nbformat_minor": 2
}
